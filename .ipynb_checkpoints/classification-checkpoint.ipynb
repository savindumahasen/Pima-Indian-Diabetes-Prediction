{
 "cells": [
  {
   "cell_type": "markdown",
   "id": "a49459a8-2f5f-4b3f-aed6-050f1135bc50",
   "metadata": {},
   "source": [
    "## Pima Indian Diabetese prediction"
   ]
  },
  {
   "cell_type": "code",
   "execution_count": 1,
   "id": "7f1238bf-cbc7-45d4-b3e9-8068a9adaf75",
   "metadata": {},
   "outputs": [],
   "source": [
    "## Import the necessary libraries"
   ]
  },
  {
   "cell_type": "code",
   "execution_count": 3,
   "id": "bc9fdec1-392c-45a3-87be-b1cbdbb3b5a3",
   "metadata": {},
   "outputs": [],
   "source": [
    "import numpy as np\n",
    "import pandas as pd\n",
    "import seaborn as sns\n",
    "from sklearn.metrics import accuracy_score, confusion_matrix, classification_report"
   ]
  },
  {
   "cell_type": "code",
   "execution_count": null,
   "id": "853c373e-8bd7-41bc-b9e6-40d43b57566f",
   "metadata": {},
   "outputs": [],
   "source": []
  }
 ],
 "metadata": {
  "kernelspec": {
   "display_name": "Python 3 (ipykernel)",
   "language": "python",
   "name": "python3"
  },
  "language_info": {
   "codemirror_mode": {
    "name": "ipython",
    "version": 3
   },
   "file_extension": ".py",
   "mimetype": "text/x-python",
   "name": "python",
   "nbconvert_exporter": "python",
   "pygments_lexer": "ipython3",
   "version": "3.12.1"
  }
 },
 "nbformat": 4,
 "nbformat_minor": 5
}
